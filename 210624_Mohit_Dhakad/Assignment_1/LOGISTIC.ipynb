{
 "cells": [
  {
   "cell_type": "code",
   "execution_count": 301,
   "id": "3c1eb84c-45bb-4153-a995-29626c4cd30f",
   "metadata": {
    "tags": []
   },
   "outputs": [],
   "source": [
    "import numpy as np\n",
    "import torch \n",
    "import torch.nn as nn\n",
    "import torchvision\n",
    "from torch.utils.data import Dataset\n",
    "from torchvision import datasets\n",
    "import os\n",
    "import math\n",
    "import matplotlib.pyplot as py\n",
    "import sklearn\n",
    "from sklearn.model_selection import train_test_split\n",
    "from sklearn.preprocessing import StandardScaler"
   ]
  },
  {
   "cell_type": "code",
   "execution_count": 302,
   "id": "00d95791-63c7-4356-82bc-8ce816a86e51",
   "metadata": {
    "tags": []
   },
   "outputs": [],
   "source": [
    "class cancer_dataset(Dataset):\n",
    "    def __init__(self):\n",
    "        self.xy=np.loadtxt('C:\\\\Users\\\\mohit\\\\Desktop\\\\ANN\\\\breast-cancer-wisconsin.csv',delimiter=',',dtype=np.float64)\n",
    "        self.data=torch.from_numpy(self.xy[:,1:10])\n",
    "        self.target=torch.from_numpy(self.xy[:,[10]])\n",
    "    def __len__(self):\n",
    "        return len(self.target)\n",
    "    def __getitem__(self,index):\n",
    "        return self.data[index],self.target[index]"
   ]
  },
  {
   "cell_type": "code",
   "execution_count": 303,
   "id": "43aee2b3-8533-4fa2-b2b5-da3de717a331",
   "metadata": {
    "tags": []
   },
   "outputs": [
    {
     "data": {
      "text/plain": [
       "torch.float32"
      ]
     },
     "execution_count": 303,
     "metadata": {},
     "output_type": "execute_result"
    }
   ],
   "source": [
    "data=cancer_dataset()\n",
    "x=data.data\n",
    "y=data.target\n",
    "x_train,x_test,y_train,y_test = train_test_split(x,y,test_size=0.2,random_state=1234)\n",
    "sc=StandardScaler()\n",
    "x_train=sc.fit_transform(x_train)\n",
    "x_test=sc.fit_transform(x_test)\n",
    "x_train=torch.from_numpy(x_train.astype(np.float32))\n",
    "x_test=torch.from_numpy(x_test.astype(np.float32))\n",
    "y_train=y_train.float()\n",
    "y_train.dtype"
   ]
  },
  {
   "cell_type": "code",
   "execution_count": 304,
   "id": "9f8a996d-dd2f-4dc9-bf1d-3415d2e751b8",
   "metadata": {
    "tags": []
   },
   "outputs": [],
   "source": [
    "class LR(nn.Module):\n",
    "    def __init__(self,n):\n",
    "        super().__init__()\n",
    "        self.linear=nn.Linear(n,1)\n",
    "    def forward(self,x):\n",
    "        y_pred=torch.sigmoid(self.linear(x))\n",
    "        return y_pred"
   ]
  },
  {
   "cell_type": "code",
   "execution_count": null,
   "id": "96108cb2-1010-4485-81aa-a24cb815ddc3",
   "metadata": {
    "tags": []
   },
   "outputs": [],
   "source": [
    "model=LR(9)\n",
    "\n",
    "criterion=nn.BCELoss()\n",
    "optimizer=torch.optim.SGD(model.parameters(),lr=0.01)\n",
    "losses=[]\n",
    "epochs=5000\n",
    "for epoch in range(epochs):\n",
    "    y_pred=model.forward(x_train)\n",
    "    loss=criterion(y_pred,y_train)\n",
    "    loss.backward()\n",
    "    losses.append(loss.detach().cpu().numpy())\n",
    "    optimizer.step()\n",
    "    optimizer.zero_grad()"
   ]
  },
  {
   "cell_type": "code",
   "execution_count": 306,
   "id": "6045d384-13ef-4e8d-829a-788cab741d3c",
   "metadata": {
    "tags": []
   },
   "outputs": [
    {
     "name": "stdout",
     "output_type": "stream",
     "text": [
      "0.09442446\n"
     ]
    },
    {
     "data": {
      "text/plain": [
       "Text(0.5, 0, 'iter')"
      ]
     },
     "execution_count": 306,
     "metadata": {},
     "output_type": "execute_result"
    },
    {
     "data": {
      "image/png": "[encoded data removed]",
      "text/plain": [
       "<Figure size 640x480 with 1 Axes>"
      ]
     },
     "metadata": {},
     "output_type": "display_data"
    }
   ],
   "source": [
    "print(min(losses))\n",
    "py.plot(range(5000),losses)\n",
    "py.ylabel('loss')\n",
    "py.xlabel('iter')"
   ]
  },
  {
   "cell_type": "code",
   "execution_count": 307,
   "id": "3cf41471-8cfa-4f83-9d00-c4ac416600b5",
   "metadata": {
    "tags": []
   },
   "outputs": [
    {
     "name": "stdout",
     "output_type": "stream",
     "text": [
      "Accuracy of model= 98.57142567634583 %\n"
     ]
    }
   ],
   "source": [
    "with torch.no_grad():\n",
    "    y_predicted=model(x_test)\n",
    "    y_predicted_cls=y_predicted.round()\n",
    "    acc=y_predicted_cls.eq(y_test).sum()/float(y_test.shape[0])\n",
    "print('Accuracy of model=',100*acc.item(),\"%\")\n",
    "    "
   ]
  },
  {
   "cell_type": "code",
   "execution_count": null,
   "id": "71ca33d2-23f1-4d84-8a0d-19156e810903",
   "metadata": {},
   "outputs": [],
   "source": []
  }
 ],
 "metadata": {
  "kernelspec": {
   "display_name": "Python 3 (ipykernel)",
   "language": "python",
   "name": "python3"
  },
  "language_info": {
   "codemirror_mode": {
    "name": "ipython",
    "version": 3
   },
   "file_extension": ".py",
   "mimetype": "text/x-python",
   "name": "python",
   "nbconvert_exporter": "python",
   "pygments_lexer": "ipython3",
   "version": "3.7.9"
  }
 },
 "nbformat": 4,
 "nbformat_minor": 5
}
